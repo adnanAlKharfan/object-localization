{
  "nbformat": 4,
  "nbformat_minor": 0,
  "metadata": {
    "colab": {
      "name": "object_localization.ipynb",
      "provenance": [],
      "collapsed_sections": []
    },
    "kernelspec": {
      "name": "python3",
      "display_name": "Python 3"
    },
    "language_info": {
      "name": "python"
    },
    "accelerator": "GPU",
    "gpuClass": "standard"
  },
  "cells": [
    {
      "cell_type": "code",
      "execution_count": null,
      "metadata": {
        "id": "fMZvY26I1ne0"
      },
      "outputs": [],
      "source": [
        "from tensorflow import keras\n",
        "import matplotlib.pyplot as plt\n",
        "import numpy as np\n",
        "import matplotlib.patches as patches\n",
        "from glob import glob\n",
        "import imageio"
      ]
    },
    {
      "cell_type": "code",
      "source": [
        "shape=(100,100,3)\n",
        "batch_size=32"
      ],
      "metadata": {
        "id": "JuvZQYgM2t0R"
      },
      "execution_count": null,
      "outputs": []
    },
    {
      "cell_type": "code",
      "source": [
        "vgg=keras.applications.vgg16.VGG16(include_top=False,input_shape=shape)"
      ],
      "metadata": {
        "colab": {
          "base_uri": "https://localhost:8080/"
        },
        "id": "3h8qCNI32fXE",
        "outputId": "5c5ccf93-edef-4c29-b025-98e7f166a67d"
      },
      "execution_count": null,
      "outputs": [
        {
          "output_type": "stream",
          "name": "stdout",
          "text": [
            "Downloading data from https://storage.googleapis.com/tensorflow/keras-applications/vgg16/vgg16_weights_tf_dim_ordering_tf_kernels_notop.h5\n",
            "58892288/58889256 [==============================] - 0s 0us/step\n",
            "58900480/58889256 [==============================] - 0s 0us/step\n"
          ]
        }
      ]
    },
    {
      "cell_type": "code",
      "source": [
        "flatten_layer=keras.layers.Flatten()\n",
        "dense_layer=keras.layers.Dense(4,activation=\"sigmoid\")"
      ],
      "metadata": {
        "id": "EztcLfz123_3"
      },
      "execution_count": null,
      "outputs": []
    },
    {
      "cell_type": "code",
      "source": [
        "x=flatten_layer(vgg.output)\n",
        "x=dense_layer(x)\n",
        "model=keras.Model(vgg.input,x)"
      ],
      "metadata": {
        "id": "H0HhA6Tw3F1X"
      },
      "execution_count": null,
      "outputs": []
    },
    {
      "cell_type": "code",
      "source": [
        "model.compile(optimizer=\"adam\",loss=keras.losses.binary_crossentropy,metrics=[\"accuracy\"])"
      ],
      "metadata": {
        "id": "X3YVSb5f3Qj0"
      },
      "execution_count": null,
      "outputs": []
    },
    {
      "cell_type": "code",
      "source": [
        "def generator():\n",
        "  while True:\n",
        "    for _ in range(50):\n",
        "      x=np.zeros((batch_size,shape[0],shape[1],shape[2]))\n",
        "      y=np.zeros((batch_size,4))\n",
        "      for i in range(batch_size):\n",
        "        row0=np.random.randint(0,shape[0]-10)\n",
        "        col0=np.random.randint(0,shape[1]-10)\n",
        "        row1=np.random.randint(shape[0]-10,shape[0])\n",
        "        col1=np.random.randint(shape[1]-10,shape[1])\n",
        "        x[i,row0:row1,col0:col1,:]=1\n",
        "        y[i,0]=row0/100\n",
        "        y[i,1]=col0/100\n",
        "        y[i,2]=(row1-row0)/100\n",
        "        y[i,3]=(col1-col0)/100\n",
        "      yield x,y"
      ],
      "metadata": {
        "id": "u7idPp8H3eoN"
      },
      "execution_count": null,
      "outputs": []
    },
    {
      "cell_type": "code",
      "source": [
        "model.fit_generator(generator(),epochs=20,steps_per_epoch=50)"
      ],
      "metadata": {
        "colab": {
          "base_uri": "https://localhost:8080/"
        },
        "id": "01GdSbdi3kHm",
        "outputId": "2b06ef7c-4008-4f79-8113-c1e1256867ad"
      },
      "execution_count": null,
      "outputs": [
        {
          "output_type": "stream",
          "name": "stdout",
          "text": [
            "Epoch 1/20\n"
          ]
        },
        {
          "output_type": "stream",
          "name": "stderr",
          "text": [
            "/usr/local/lib/python3.7/dist-packages/ipykernel_launcher.py:1: UserWarning: `Model.fit_generator` is deprecated and will be removed in a future version. Please use `Model.fit`, which supports generators.\n",
            "  \"\"\"Entry point for launching an IPython kernel.\n"
          ]
        },
        {
          "output_type": "stream",
          "name": "stdout",
          "text": [
            "50/50 [==============================] - 19s 99ms/step - loss: 0.7165 - accuracy: 0.2519\n",
            "Epoch 2/20\n",
            "50/50 [==============================] - 5s 99ms/step - loss: 0.5909 - accuracy: 0.6888\n",
            "Epoch 3/20\n",
            "50/50 [==============================] - 5s 99ms/step - loss: 0.5421 - accuracy: 0.9219\n",
            "Epoch 4/20\n",
            "50/50 [==============================] - 5s 99ms/step - loss: 0.5392 - accuracy: 0.9337\n",
            "Epoch 5/20\n",
            "50/50 [==============================] - 5s 100ms/step - loss: 0.5434 - accuracy: 0.9356\n",
            "Epoch 6/20\n",
            "50/50 [==============================] - 5s 100ms/step - loss: 0.5413 - accuracy: 0.9356\n",
            "Epoch 7/20\n",
            "50/50 [==============================] - 5s 100ms/step - loss: 0.5373 - accuracy: 0.9450\n",
            "Epoch 8/20\n",
            "50/50 [==============================] - 5s 100ms/step - loss: 0.5436 - accuracy: 0.9456\n",
            "Epoch 9/20\n",
            "50/50 [==============================] - 5s 100ms/step - loss: 0.5403 - accuracy: 0.9325\n",
            "Epoch 10/20\n",
            "50/50 [==============================] - 5s 101ms/step - loss: 0.5405 - accuracy: 0.9369\n",
            "Epoch 11/20\n",
            "50/50 [==============================] - 5s 100ms/step - loss: 0.5353 - accuracy: 0.9525\n",
            "Epoch 12/20\n",
            "50/50 [==============================] - 5s 101ms/step - loss: 0.5392 - accuracy: 0.9694\n",
            "Epoch 13/20\n",
            "50/50 [==============================] - 5s 101ms/step - loss: 0.5396 - accuracy: 0.9675\n",
            "Epoch 14/20\n",
            "50/50 [==============================] - 5s 101ms/step - loss: 0.5386 - accuracy: 0.9663\n",
            "Epoch 15/20\n",
            "50/50 [==============================] - 5s 101ms/step - loss: 0.5375 - accuracy: 0.9750\n",
            "Epoch 16/20\n",
            "50/50 [==============================] - 5s 101ms/step - loss: 0.5388 - accuracy: 0.9800\n",
            "Epoch 17/20\n",
            "50/50 [==============================] - 5s 102ms/step - loss: 0.5354 - accuracy: 0.9781\n",
            "Epoch 18/20\n",
            "50/50 [==============================] - 5s 101ms/step - loss: 0.5398 - accuracy: 0.9825\n",
            "Epoch 19/20\n",
            "50/50 [==============================] - 5s 102ms/step - loss: 0.5400 - accuracy: 0.9731\n",
            "Epoch 20/20\n",
            "50/50 [==============================] - 5s 102ms/step - loss: 0.5347 - accuracy: 0.9762\n"
          ]
        },
        {
          "output_type": "execute_result",
          "data": {
            "text/plain": [
              "<keras.callbacks.History at 0x7f4bd078bf90>"
            ]
          },
          "metadata": {},
          "execution_count": 8
        }
      ]
    },
    {
      "cell_type": "code",
      "source": [
        "def plot_white_boxes_location():\n",
        "\n",
        "  x=np.zeros(shape)\n",
        "  row0=np.random.randint(0,shape[0]-10)\n",
        "  col0=np.random.randint(0,shape[1]-10)\n",
        "  row1=np.random.randint(shape[0]-10,shape[0])\n",
        "  col1=np.random.randint(shape[1]-10,shape[1])\n",
        "  x[row0:row1,col0:col1,:]=1\n",
        "  predict_=model.predict(np.array([x]))\n",
        "  predict_=predict_[0]\n",
        "  predict_[0]=predict_[0]*shape[0]\n",
        "  predict_[1]=predict_[1]*shape[1]\n",
        "  predict_[2]=predict_[2]*shape[0]\n",
        "  predict_[3]=predict_[3]*shape[1]\n",
        "  fig, ax = plt.subplots(figsize=(10, 10))\n",
        "  ax.imshow(x)\n",
        " \n",
        "  rect = patches.Rectangle((predict_[1],predict_[0]),  predict_[3],predict_[2], linewidth=4, edgecolor='r')\n",
        "\n",
        "\n",
        "  ax.add_patch(rect)\n",
        "\n",
        "  plt.show()\n",
        "\n",
        "  \n"
      ],
      "metadata": {
        "id": "98BpOFI16g87"
      },
      "execution_count": null,
      "outputs": []
    },
    {
      "cell_type": "code",
      "source": [
        "\n",
        "plot_white_boxes_location()"
      ],
      "metadata": {
        "colab": {
          "base_uri": "https://localhost:8080/",
          "height": 593
        },
        "id": "g5D64wqL-X-z",
        "outputId": "4f9872df-0425-4b51-8b23-48bc0e7ec901"
      },
      "execution_count": null,
      "outputs": [
        {
          "output_type": "display_data",
          "data": {
            "text/plain": [
              "<Figure size 720x720 with 1 Axes>"
            ],
            "image/png": "[encoded data removed]"
          },
          "metadata": {
            "needs_background": "light"
          }
        }
      ]
    },
    {
      "cell_type": "code",
      "source": [
        "image = keras.preprocessing.image.load_img(\"/content/pokemon.jpg\", target_size=(28,28,3))\n",
        "input_arr = keras.preprocessing.image.img_to_array(image)/255\n"
      ],
      "metadata": {
        "id": "MPixUtQG-ZYg"
      },
      "execution_count": null,
      "outputs": []
    },
    {
      "cell_type": "code",
      "source": [
        "def generatorV2():\n",
        "  while True:\n",
        "    for _ in range(50):\n",
        "      x=np.zeros((batch_size,shape[0],shape[1],shape[2]))\n",
        "      y=np.zeros((batch_size,4))\n",
        "      for i in range(batch_size):\n",
        "        row0=np.random.randint(0,shape[0]-input_arr.shape[0])\n",
        "        col0=np.random.randint(0,shape[1]-input_arr.shape[1])\n",
        "        row1=row0+input_arr.shape[0]\n",
        "        col1=col0+input_arr.shape[1]\n",
        "        x[i,row0:row1,col0:col1,:]=input_arr\n",
        "        y[i,0]=row0/100\n",
        "        y[i,1]=col0/100\n",
        "        y[i,2]=(row1-row0)/100\n",
        "        y[i,3]=(col1-col0)/100\n",
        "      yield x,y"
      ],
      "metadata": {
        "id": "fHX1xm1IDHaV"
      },
      "execution_count": null,
      "outputs": []
    },
    {
      "cell_type": "code",
      "source": [
        "model.fit_generator(generatorV2(),epochs=20,steps_per_epoch=50)"
      ],
      "metadata": {
        "colab": {
          "base_uri": "https://localhost:8080/"
        },
        "id": "t-5o55cmDg2o",
        "outputId": "c76898a9-afd7-4101-c2bc-d0b327d0417d"
      },
      "execution_count": null,
      "outputs": [
        {
          "output_type": "stream",
          "name": "stdout",
          "text": [
            "Epoch 1/20\n"
          ]
        },
        {
          "output_type": "stream",
          "name": "stderr",
          "text": [
            "/usr/local/lib/python3.7/dist-packages/ipykernel_launcher.py:1: UserWarning: `Model.fit_generator` is deprecated and will be removed in a future version. Please use `Model.fit`, which supports generators.\n",
            "  \"\"\"Entry point for launching an IPython kernel.\n"
          ]
        },
        {
          "output_type": "stream",
          "name": "stdout",
          "text": [
            "50/50 [==============================] - 19s 101ms/step - loss: 0.8709 - accuracy: 0.5231\n",
            "Epoch 2/20\n",
            "50/50 [==============================] - 5s 101ms/step - loss: 0.5713 - accuracy: 0.8706\n",
            "Epoch 3/20\n",
            "50/50 [==============================] - 5s 102ms/step - loss: 0.5672 - accuracy: 0.9038\n",
            "Epoch 4/20\n",
            "50/50 [==============================] - 5s 102ms/step - loss: 0.5701 - accuracy: 0.9200\n",
            "Epoch 5/20\n",
            "50/50 [==============================] - 5s 103ms/step - loss: 0.5679 - accuracy: 0.9050\n",
            "Epoch 6/20\n",
            "50/50 [==============================] - 5s 102ms/step - loss: 0.5665 - accuracy: 0.9013\n",
            "Epoch 7/20\n",
            "50/50 [==============================] - 5s 105ms/step - loss: 0.5682 - accuracy: 0.9131\n",
            "Epoch 8/20\n",
            "50/50 [==============================] - 5s 106ms/step - loss: 0.5675 - accuracy: 0.8975\n",
            "Epoch 9/20\n",
            "50/50 [==============================] - 5s 104ms/step - loss: 0.5691 - accuracy: 0.9156\n",
            "Epoch 10/20\n",
            "50/50 [==============================] - 5s 103ms/step - loss: 0.5688 - accuracy: 0.9056\n",
            "Epoch 11/20\n",
            "50/50 [==============================] - 5s 104ms/step - loss: 0.5689 - accuracy: 0.9112\n",
            "Epoch 12/20\n",
            "50/50 [==============================] - 5s 104ms/step - loss: 0.5706 - accuracy: 0.9162\n",
            "Epoch 13/20\n",
            "50/50 [==============================] - 5s 103ms/step - loss: 0.5664 - accuracy: 0.9056\n",
            "Epoch 14/20\n",
            "50/50 [==============================] - 5s 103ms/step - loss: 0.5688 - accuracy: 0.9125\n",
            "Epoch 15/20\n",
            "50/50 [==============================] - 5s 106ms/step - loss: 0.5691 - accuracy: 0.8969\n",
            "Epoch 16/20\n",
            "50/50 [==============================] - 5s 104ms/step - loss: 0.5688 - accuracy: 0.8944\n",
            "Epoch 17/20\n",
            "50/50 [==============================] - 5s 104ms/step - loss: 0.5713 - accuracy: 0.9131\n",
            "Epoch 18/20\n",
            "50/50 [==============================] - 5s 104ms/step - loss: 0.5687 - accuracy: 0.9044\n",
            "Epoch 19/20\n",
            "50/50 [==============================] - 5s 104ms/step - loss: 0.5690 - accuracy: 0.9044\n",
            "Epoch 20/20\n",
            "50/50 [==============================] - 5s 102ms/step - loss: 0.5678 - accuracy: 0.9106\n"
          ]
        },
        {
          "output_type": "execute_result",
          "data": {
            "text/plain": [
              "<keras.callbacks.History at 0x7fcd49315990>"
            ]
          },
          "metadata": {},
          "execution_count": 12
        }
      ]
    },
    {
      "cell_type": "code",
      "source": [
        "def plot_white_boxes_locationV2():\n",
        "  x=np.zeros(shape)\n",
        "  row0=np.random.randint(0,shape[0]-input_arr.shape[0])\n",
        "  col0=np.random.randint(0,shape[1]-input_arr.shape[1])\n",
        "  row1=row0+input_arr.shape[0]\n",
        "  col1=col0+input_arr.shape[1]\n",
        "  x[row0:row1,col0:col1,:]=input_arr\n",
        "  predict_=model.predict(np.array([x]))\n",
        "  predict_=predict_[0]\n",
        "  predict_[0]=predict_[0]*shape[0]\n",
        "  predict_[1]=predict_[1]*shape[1]\n",
        "  predict_[2]=predict_[2]*shape[0]\n",
        "  predict_[3]=predict_[3]*shape[1]\n",
        "  fig, ax = plt.subplots(figsize=(10, 10))\n",
        "  ax.imshow(keras.preprocessing.image.array_to_img( x))\n",
        " \n",
        "  rect = patches.Rectangle((predict_[1],predict_[0]),  predict_[3],predict_[2], linewidth=4, edgecolor='r',fill=False)\n",
        "\n",
        "\n",
        "  ax.add_patch(rect)\n",
        "\n",
        "  plt.show()\n",
        "\n",
        "  \n"
      ],
      "metadata": {
        "id": "VhiROJ1NDlHA"
      },
      "execution_count": null,
      "outputs": []
    },
    {
      "cell_type": "code",
      "source": [
        "plot_white_boxes_locationV2()"
      ],
      "metadata": {
        "colab": {
          "base_uri": "https://localhost:8080/",
          "height": 593
        },
        "id": "3FjH3KzMEBKr",
        "outputId": "26a1e955-e932-48f6-911d-877060eea5c0"
      },
      "execution_count": null,
      "outputs": [
        {
          "output_type": "display_data",
          "data": {
            "text/plain": [
              "<Figure size 720x720 with 1 Axes>"
            ],
            "image/png": "[encoded data removed]"
          },
          "metadata": {
            "needs_background": "light"
          }
        }
      ]
    },
    {
      "cell_type": "code",
      "source": [
        "def generatorV3():\n",
        "  while True:\n",
        "    for _ in range(50):\n",
        "      x=np.zeros((batch_size,shape[0],shape[1],shape[2]))\n",
        "      y=np.zeros((batch_size,4))\n",
        "      scale=np.random.uniform(0.5,1.5)\n",
        "      input_arr_resized=np.resize(input_arr,(int(input_arr.shape[0]*scale),int(input_arr.shape[1]*scale),3))\n",
        "      for i in range(batch_size):\n",
        "        row0=np.random.randint(0,shape[0]-input_arr_resized.shape[0])\n",
        "        col0=np.random.randint(0,shape[1]-input_arr_resized.shape[1])\n",
        "        row1=row0+input_arr_resized.shape[0]\n",
        "        col1=col0+input_arr_resized.shape[1]\n",
        "        x[i,row0:row1,col0:col1,:]=input_arr_resized\n",
        "        y[i,0]=row0/100\n",
        "        y[i,1]=col0/100\n",
        "        y[i,2]=(row1-row0)/100\n",
        "        y[i,3]=(col1-col0)/100\n",
        "      yield x,y"
      ],
      "metadata": {
        "id": "p9KvHTYAFwpa"
      },
      "execution_count": null,
      "outputs": []
    },
    {
      "cell_type": "code",
      "source": [
        "model.fit_generator(generatorV3(),epochs=20,steps_per_epoch=50)"
      ],
      "metadata": {
        "colab": {
          "base_uri": "https://localhost:8080/"
        },
        "id": "rInd_c0VIPAe",
        "outputId": "2ccb198b-9c6c-445d-c5b4-4b708309e8a2"
      },
      "execution_count": null,
      "outputs": [
        {
          "output_type": "stream",
          "name": "stdout",
          "text": [
            "Epoch 1/20\n"
          ]
        },
        {
          "output_type": "stream",
          "name": "stderr",
          "text": [
            "/usr/local/lib/python3.7/dist-packages/ipykernel_launcher.py:1: UserWarning: `Model.fit_generator` is deprecated and will be removed in a future version. Please use `Model.fit`, which supports generators.\n",
            "  \"\"\"Entry point for launching an IPython kernel.\n"
          ]
        },
        {
          "output_type": "stream",
          "name": "stdout",
          "text": [
            "50/50 [==============================] - 20s 105ms/step - loss: 1.8256 - accuracy: 0.4462\n",
            "Epoch 2/20\n",
            "50/50 [==============================] - 5s 104ms/step - loss: 0.5579 - accuracy: 0.8431\n",
            "Epoch 3/20\n",
            "50/50 [==============================] - 5s 105ms/step - loss: 0.5692 - accuracy: 0.7588\n",
            "Epoch 4/20\n",
            "50/50 [==============================] - 5s 106ms/step - loss: 0.5672 - accuracy: 0.7925\n",
            "Epoch 5/20\n",
            "50/50 [==============================] - 5s 106ms/step - loss: 0.5595 - accuracy: 0.8138\n",
            "Epoch 6/20\n",
            "50/50 [==============================] - 5s 108ms/step - loss: 0.5596 - accuracy: 0.8225\n",
            "Epoch 7/20\n",
            "50/50 [==============================] - 5s 108ms/step - loss: 0.5610 - accuracy: 0.8431\n",
            "Epoch 8/20\n",
            "50/50 [==============================] - 5s 107ms/step - loss: 0.5530 - accuracy: 0.8813\n",
            "Epoch 9/20\n",
            "50/50 [==============================] - 5s 107ms/step - loss: 0.5683 - accuracy: 0.8500\n",
            "Epoch 10/20\n",
            "50/50 [==============================] - 5s 106ms/step - loss: 0.5557 - accuracy: 0.8450\n",
            "Epoch 11/20\n",
            "50/50 [==============================] - 5s 106ms/step - loss: 0.5620 - accuracy: 0.7906\n",
            "Epoch 12/20\n",
            "50/50 [==============================] - 5s 106ms/step - loss: 0.5663 - accuracy: 0.8413\n",
            "Epoch 13/20\n",
            "50/50 [==============================] - 5s 105ms/step - loss: 0.5533 - accuracy: 0.8569\n",
            "Epoch 14/20\n",
            "50/50 [==============================] - 5s 106ms/step - loss: 0.5624 - accuracy: 0.8481\n",
            "Epoch 15/20\n",
            "50/50 [==============================] - 5s 105ms/step - loss: 0.5540 - accuracy: 0.8662\n",
            "Epoch 16/20\n",
            "50/50 [==============================] - 5s 106ms/step - loss: 0.5642 - accuracy: 0.8431\n",
            "Epoch 17/20\n",
            "50/50 [==============================] - 5s 105ms/step - loss: 0.5529 - accuracy: 0.8637\n",
            "Epoch 18/20\n",
            "50/50 [==============================] - 5s 106ms/step - loss: 0.5584 - accuracy: 0.8369\n",
            "Epoch 19/20\n",
            "50/50 [==============================] - 5s 106ms/step - loss: 0.5583 - accuracy: 0.8619\n",
            "Epoch 20/20\n",
            "50/50 [==============================] - 5s 106ms/step - loss: 0.5623 - accuracy: 0.8694\n"
          ]
        },
        {
          "output_type": "execute_result",
          "data": {
            "text/plain": [
              "<keras.callbacks.History at 0x7f82deaf1c10>"
            ]
          },
          "metadata": {},
          "execution_count": 14
        }
      ]
    },
    {
      "cell_type": "code",
      "source": [
        "def plot_white_boxes_locationV3():\n",
        "  x=np.zeros(shape)\n",
        "  scale=np.random.uniform(0.5,1.5)\n",
        "  input_arr_resized=np.resize(input_arr,(int(input_arr.shape[0]*scale),int(input_arr.shape[1]*scale),3))\n",
        "  row0=np.random.randint(0,shape[0]-input_arr_resized.shape[0])\n",
        "  col0=np.random.randint(0,shape[1]-input_arr_resized.shape[1])\n",
        "  row1=row0+input_arr_resized.shape[0]\n",
        "  col1=col0+input_arr_resized.shape[1]\n",
        "  x[row0:row1,col0:col1,:]=input_arr_resized\n",
        "  predict_=model.predict(np.array([x]))\n",
        "  predict_=predict_[0]\n",
        "  predict_[0]=predict_[0]*shape[0]\n",
        "  predict_[1]=predict_[1]*shape[1]\n",
        "  predict_[2]=predict_[2]*shape[0]\n",
        "  predict_[3]=predict_[3]*shape[1]\n",
        "  fig, ax = plt.subplots(figsize=(10, 10))\n",
        "  ax.imshow(keras.preprocessing.image.array_to_img( x))\n",
        " \n",
        "  rect = patches.Rectangle((predict_[1],predict_[0]),  predict_[3],predict_[2], linewidth=4, edgecolor='r',fill=False)\n",
        "\n",
        "\n",
        "  ax.add_patch(rect)\n",
        "\n",
        "  plt.show()\n",
        "\n",
        "  \n"
      ],
      "metadata": {
        "id": "rwlfVWJ0ISQM"
      },
      "execution_count": null,
      "outputs": []
    },
    {
      "cell_type": "code",
      "source": [
        "plot_white_boxes_locationV3()"
      ],
      "metadata": {
        "colab": {
          "base_uri": "https://localhost:8080/",
          "height": 593
        },
        "id": "5r_Z3grdIlPM",
        "outputId": "3935ab36-d294-4fc3-dc0e-3630816b5a09"
      },
      "execution_count": null,
      "outputs": [
        {
          "output_type": "display_data",
          "data": {
            "text/plain": [
              "<Figure size 720x720 with 1 Axes>"
            ],
            "image/png": "[encoded data removed]"
          },
          "metadata": {
            "needs_background": "light"
          }
        }
      ]
    },
    {
      "cell_type": "code",
      "source": [
        "def generatorV4():\n",
        "  while True:\n",
        "    for _ in range(50):\n",
        "      x=np.zeros((batch_size,shape[0],shape[1],shape[2]))\n",
        "      y=np.zeros((batch_size,4))\n",
        "      scale=np.random.uniform(0.5,1.5)\n",
        "      input_arr_resized=np.resize(input_arr,(int(input_arr.shape[0]*scale),int(input_arr.shape[1]*scale),3))\n",
        "      to_flip=np.random.random()\n",
        "      if to_flip <0.5:\n",
        "        input_arr_resized=np.fliplr(input_arr_resized)\n",
        "      for i in range(batch_size):\n",
        "        row0=np.random.randint(0,shape[0]-input_arr_resized.shape[0])\n",
        "        col0=np.random.randint(0,shape[1]-input_arr_resized.shape[1])\n",
        "        row1=row0+input_arr_resized.shape[0]\n",
        "        col1=col0+input_arr_resized.shape[1]\n",
        "        x[i,row0:row1,col0:col1,:]=input_arr_resized\n",
        "        y[i,0]=row0/100\n",
        "        y[i,1]=col0/100\n",
        "        y[i,2]=(row1-row0)/100\n",
        "        y[i,3]=(col1-col0)/100\n",
        "      yield x,y"
      ],
      "metadata": {
        "id": "fJi-AWniJ4XL"
      },
      "execution_count": null,
      "outputs": []
    },
    {
      "cell_type": "code",
      "source": [
        "model.fit_generator(generatorV4(),epochs=20,steps_per_epoch=50)"
      ],
      "metadata": {
        "colab": {
          "base_uri": "https://localhost:8080/"
        },
        "id": "gbeJWTw5MtLn",
        "outputId": "e7743087-8dc0-46af-b09c-2abb8e7394a4"
      },
      "execution_count": null,
      "outputs": [
        {
          "output_type": "stream",
          "name": "stdout",
          "text": [
            "Epoch 1/20\n"
          ]
        },
        {
          "output_type": "stream",
          "name": "stderr",
          "text": [
            "/usr/local/lib/python3.7/dist-packages/ipykernel_launcher.py:1: UserWarning: `Model.fit_generator` is deprecated and will be removed in a future version. Please use `Model.fit`, which supports generators.\n",
            "  \"\"\"Entry point for launching an IPython kernel.\n"
          ]
        },
        {
          "output_type": "stream",
          "name": "stdout",
          "text": [
            "50/50 [==============================] - 19s 106ms/step - loss: 1.2555 - accuracy: 0.6338\n",
            "Epoch 2/20\n",
            "50/50 [==============================] - 5s 106ms/step - loss: 0.5650 - accuracy: 0.7869\n",
            "Epoch 3/20\n",
            "50/50 [==============================] - 5s 105ms/step - loss: 0.5642 - accuracy: 0.8219\n",
            "Epoch 4/20\n",
            "50/50 [==============================] - 5s 106ms/step - loss: 0.5577 - accuracy: 0.8200\n",
            "Epoch 5/20\n",
            "50/50 [==============================] - 5s 107ms/step - loss: 0.5558 - accuracy: 0.8838\n",
            "Epoch 6/20\n",
            "50/50 [==============================] - 5s 109ms/step - loss: 0.5612 - accuracy: 0.8844\n",
            "Epoch 7/20\n",
            "50/50 [==============================] - 5s 109ms/step - loss: 0.5496 - accuracy: 0.8681\n",
            "Epoch 8/20\n",
            "50/50 [==============================] - 5s 108ms/step - loss: 0.5589 - accuracy: 0.8800\n",
            "Epoch 9/20\n",
            "50/50 [==============================] - 5s 106ms/step - loss: 0.5576 - accuracy: 0.8506\n",
            "Epoch 10/20\n",
            "50/50 [==============================] - 5s 106ms/step - loss: 0.5567 - accuracy: 0.8581\n",
            "Epoch 11/20\n",
            "50/50 [==============================] - 5s 105ms/step - loss: 0.5608 - accuracy: 0.8925\n",
            "Epoch 12/20\n",
            "50/50 [==============================] - 5s 105ms/step - loss: 0.5530 - accuracy: 0.8694\n",
            "Epoch 13/20\n",
            "50/50 [==============================] - 5s 105ms/step - loss: 0.5563 - accuracy: 0.8806\n",
            "Epoch 14/20\n",
            "50/50 [==============================] - 5s 105ms/step - loss: 0.5463 - accuracy: 0.8769\n",
            "Epoch 15/20\n",
            "50/50 [==============================] - 5s 104ms/step - loss: 0.5492 - accuracy: 0.8981\n",
            "Epoch 16/20\n",
            "50/50 [==============================] - 5s 105ms/step - loss: 0.5541 - accuracy: 0.8619\n",
            "Epoch 17/20\n",
            "50/50 [==============================] - 5s 105ms/step - loss: 0.5522 - accuracy: 0.9081\n",
            "Epoch 18/20\n",
            "50/50 [==============================] - 5s 105ms/step - loss: 0.5541 - accuracy: 0.8750\n",
            "Epoch 19/20\n",
            "50/50 [==============================] - 5s 104ms/step - loss: 0.5482 - accuracy: 0.8781\n",
            "Epoch 20/20\n",
            "50/50 [==============================] - 5s 105ms/step - loss: 0.5562 - accuracy: 0.8794\n"
          ]
        },
        {
          "output_type": "execute_result",
          "data": {
            "text/plain": [
              "<keras.callbacks.History at 0x7f16c8193d90>"
            ]
          },
          "metadata": {},
          "execution_count": 10
        }
      ]
    },
    {
      "cell_type": "code",
      "source": [
        "def plot_white_boxes_locationV4():\n",
        "  x=np.zeros(shape)\n",
        "  scale=np.random.uniform(0.5,1.5)\n",
        "  input_arr_resized=np.resize(input_arr,(int(input_arr.shape[0]*scale),int(input_arr.shape[1]*scale),3))\n",
        "  to_flip=np.random.random()\n",
        "  if to_flip <0.5:\n",
        "    input_arr_resized=np.fliplr(input_arr_resized)\n",
        "  row0=np.random.randint(0,shape[0]-input_arr_resized.shape[0])\n",
        "  col0=np.random.randint(0,shape[1]-input_arr_resized.shape[1])\n",
        "  row1=row0+input_arr_resized.shape[0]\n",
        "  col1=col0+input_arr_resized.shape[1]\n",
        "  x[row0:row1,col0:col1,:]=input_arr_resized\n",
        "  predict_=model.predict(np.array([x]))\n",
        "  predict_=predict_[0]\n",
        "  predict_[0]=predict_[0]*shape[0]\n",
        "  predict_[1]=predict_[1]*shape[1]\n",
        "  predict_[2]=predict_[2]*shape[0]\n",
        "  predict_[3]=predict_[3]*shape[1]\n",
        "  fig, ax = plt.subplots(figsize=(10, 10))\n",
        "  ax.imshow(keras.preprocessing.image.array_to_img( x))\n",
        " \n",
        "  rect = patches.Rectangle((predict_[1],predict_[0]),  predict_[3],predict_[2], linewidth=4, edgecolor='r',fill=False)\n",
        "\n",
        "\n",
        "  ax.add_patch(rect)\n",
        "\n",
        "  plt.show()\n",
        "\n",
        "  \n"
      ],
      "metadata": {
        "id": "8dr2xWIOMwnr"
      },
      "execution_count": null,
      "outputs": []
    },
    {
      "cell_type": "code",
      "source": [
        "plot_white_boxes_locationV4()"
      ],
      "metadata": {
        "colab": {
          "base_uri": "https://localhost:8080/",
          "height": 593
        },
        "id": "vuGjbjiiM5c_",
        "outputId": "3e5541a4-2b06-4b48-d0d3-1224cce2caa8"
      },
      "execution_count": null,
      "outputs": [
        {
          "output_type": "display_data",
          "data": {
            "text/plain": [
              "<Figure size 720x720 with 1 Axes>"
            ],
            "image/png": "[encoded data removed]"
          },
          "metadata": {
            "needs_background": "light"
          }
        }
      ]
    },
    {
      "cell_type": "code",
      "source": [
        "backgrounds=[]\n",
        "background_files=glob(\"/content/drive/MyDrive/background/background*.jpg\")\n",
        "for f in background_files:\n",
        "  backgrounds.append(np.array(keras.preprocessing.image.load_img(f)))"
      ],
      "metadata": {
        "id": "o7Kf1wZlTf4Y"
      },
      "execution_count": null,
      "outputs": []
    },
    {
      "cell_type": "code",
      "source": [
        "from skimage.transform import rescale\n",
        "# img=keras.preprocessing.image.load_img(\"/content/pokemon.png\")\n",
        "# input_arr=keras.preprocessing.image.img_to_array(img)\n",
        "input_arr=imageio.imread(\"/content/pokemon.png\")\n",
        "print(input_arr.shape)\n",
        "input_arr=rescale(input_arr,0.07,preserve_range=True,multichannel=True)\n",
        "\n"
      ],
      "metadata": {
        "colab": {
          "base_uri": "https://localhost:8080/"
        },
        "id": "94H1x8w-WQn0",
        "outputId": "c9757826-ce39-44d2-a5df-c274def4c3d8"
      },
      "execution_count": null,
      "outputs": [
        {
          "output_type": "stream",
          "name": "stdout",
          "text": [
            "(859, 840, 4)\n"
          ]
        }
      ]
    },
    {
      "cell_type": "code",
      "source": [
        "def generatorV5():\n",
        "  while True:\n",
        "    for _ in range(50):\n",
        "      x=np.zeros((batch_size,shape[0],shape[1],shape[2]))\n",
        "      y=np.zeros((batch_size,4))\n",
        "    \n",
        "      # scale=np.random.uniform(0.5,1.5)\n",
        "      # input_arr_resized=np.resize(input_arr,(int(input_arr.shape[0]*scale),int(input_arr.shape[1]*scale),3))\n",
        "      # to_flip=np.random.random()\n",
        "      # if to_flip <0.5:\n",
        "      #   input_arr_resized=np.fliplr(input_arr_resized)\n",
        "      for i in range(batch_size):\n",
        "        id=np.random.choice(len(backgrounds))\n",
        "        bg=backgrounds[id]\n",
        "        bg_h,bg_w,_=bg.shape\n",
        "        rnd_h=np.random.randint(bg_h-shape[0])\n",
        "        rnd_w=np.random.randint(bg_w-shape[1])\n",
        "        \n",
        "        x[i]=bg[rnd_h:rnd_h+shape[0],rnd_w:rnd_w+shape[1]].copy()\n",
        "\n",
        "        scale=np.random.uniform(0.5,1.5)\n",
        "        input_arr_resized=np.resize(input_arr,(int(input_arr.shape[0]*scale),int(input_arr.shape[1]*scale),4)\n",
        "        ).astype(np.uint8)\n",
        "        to_flip=np.random.random()\n",
        "        if to_flip <0.5:\n",
        "           input_arr_resized=np.fliplr(input_arr_resized)\n",
        "\n",
        "        row0=np.random.randint(0,shape[0]-input_arr_resized.shape[0])\n",
        "        col0=np.random.randint(0,shape[1]-input_arr_resized.shape[1])\n",
        "        row1=row0+input_arr_resized.shape[0]\n",
        "        col1=col0+input_arr_resized.shape[1]\n",
        "        mask=(input_arr_resized[:,:,3]==0)\n",
        "\n",
        "        bg_slice=x[i,row0:row1,col0:col1,:]\n",
        "        bg_slice=np.expand_dims(mask,-1)*bg_slice\n",
        "        bg_slice+=input_arr_resized[:,:,:3]\n",
        "        x[i,row0:row1,col0:col1,:]=bg_slice\n",
        "        y[i,0]=row0/100\n",
        "        y[i,1]=col0/100\n",
        "        y[i,2]=(row1-row0)/100\n",
        "        y[i,3]=(col1-col0)/100\n",
        "      yield x/255,y"
      ],
      "metadata": {
        "id": "DF30F21nUi_g"
      },
      "execution_count": null,
      "outputs": []
    },
    {
      "cell_type": "code",
      "source": [
        "model.fit_generator(generatorV5(),epochs=20,steps_per_epoch=50)"
      ],
      "metadata": {
        "colab": {
          "base_uri": "https://localhost:8080/"
        },
        "id": "IhXYUQPkYPJ_",
        "outputId": "d325519a-4c13-46be-d963-d27987b6fce2"
      },
      "execution_count": null,
      "outputs": [
        {
          "output_type": "stream",
          "name": "stdout",
          "text": [
            "Epoch 1/20\n"
          ]
        },
        {
          "output_type": "stream",
          "name": "stderr",
          "text": [
            "/usr/local/lib/python3.7/dist-packages/ipykernel_launcher.py:1: UserWarning: `Model.fit_generator` is deprecated and will be removed in a future version. Please use `Model.fit`, which supports generators.\n",
            "  \"\"\"Entry point for launching an IPython kernel.\n"
          ]
        },
        {
          "output_type": "stream",
          "name": "stdout",
          "text": [
            "50/50 [==============================] - 5s 103ms/step - loss: 0.5292 - accuracy: 0.7756\n",
            "Epoch 2/20\n",
            "50/50 [==============================] - 5s 102ms/step - loss: 0.5210 - accuracy: 0.8819\n",
            "Epoch 3/20\n",
            "50/50 [==============================] - 5s 103ms/step - loss: 0.5175 - accuracy: 0.9125\n",
            "Epoch 4/20\n",
            "50/50 [==============================] - 5s 104ms/step - loss: 0.5212 - accuracy: 0.9212\n",
            "Epoch 5/20\n",
            "50/50 [==============================] - 5s 104ms/step - loss: 0.5189 - accuracy: 0.9475\n",
            "Epoch 6/20\n",
            "50/50 [==============================] - 5s 104ms/step - loss: 0.5207 - accuracy: 0.9506\n",
            "Epoch 7/20\n",
            "50/50 [==============================] - 5s 105ms/step - loss: 0.5187 - accuracy: 0.9594\n",
            "Epoch 8/20\n",
            "50/50 [==============================] - 5s 105ms/step - loss: 0.5204 - accuracy: 0.9569\n",
            "Epoch 9/20\n",
            "50/50 [==============================] - 5s 105ms/step - loss: 0.5173 - accuracy: 0.9625\n",
            "Epoch 10/20\n",
            "50/50 [==============================] - 5s 105ms/step - loss: 0.5215 - accuracy: 0.9631\n",
            "Epoch 11/20\n",
            "50/50 [==============================] - 5s 108ms/step - loss: 0.5187 - accuracy: 0.9731\n",
            "Epoch 12/20\n",
            "50/50 [==============================] - 5s 105ms/step - loss: 0.5163 - accuracy: 0.9706\n",
            "Epoch 13/20\n",
            "50/50 [==============================] - 5s 104ms/step - loss: 0.5210 - accuracy: 0.9650\n",
            "Epoch 14/20\n",
            "50/50 [==============================] - 5s 104ms/step - loss: 0.5157 - accuracy: 0.9775\n",
            "Epoch 15/20\n",
            "50/50 [==============================] - 5s 104ms/step - loss: 0.5162 - accuracy: 0.9794\n",
            "Epoch 16/20\n",
            "50/50 [==============================] - 5s 103ms/step - loss: 0.5209 - accuracy: 0.9800\n",
            "Epoch 17/20\n",
            "50/50 [==============================] - 5s 103ms/step - loss: 0.5198 - accuracy: 0.9869\n",
            "Epoch 18/20\n",
            "50/50 [==============================] - 5s 104ms/step - loss: 0.5157 - accuracy: 0.9856\n",
            "Epoch 19/20\n",
            "50/50 [==============================] - 5s 103ms/step - loss: 0.5225 - accuracy: 0.9837\n",
            "Epoch 20/20\n",
            "50/50 [==============================] - 5s 103ms/step - loss: 0.5205 - accuracy: 0.9875\n"
          ]
        },
        {
          "output_type": "execute_result",
          "data": {
            "text/plain": [
              "<keras.callbacks.History at 0x7fcba025e6d0>"
            ]
          },
          "metadata": {},
          "execution_count": 85
        }
      ]
    },
    {
      "cell_type": "code",
      "source": [
        "def plot_white_boxes_locationV5():\n",
        "  x=np.zeros(shape)\n",
        "  id=np.random.choice(len(backgrounds))\n",
        "  bg=backgrounds[id].astype(np.uint8)\n",
        "  bg_h,bg_w,_=bg.shape\n",
        "  rnd_h=np.random.randint(bg_h-shape[0])\n",
        "  rnd_w=np.random.randint(bg_w-shape[1])\n",
        "        \n",
        "  x=bg[rnd_h:rnd_h+shape[0],rnd_w:rnd_w+shape[1]].copy()\n",
        "  scale=np.random.uniform(0.5,1.5)\n",
        "  input_arr_resized=np.resize(input_arr,(int(input_arr.shape[0]*scale),int(input_arr.shape[1]*scale),4)).astype(np.uint8)\n",
        "  to_flip=np.random.random()\n",
        "  if to_flip <0.5:\n",
        "    input_arr_resized=np.fliplr(input_arr_resized)\n",
        "  row0=np.random.randint(0,shape[0]-input_arr_resized.shape[0])\n",
        "  col0=np.random.randint(0,shape[1]-input_arr_resized.shape[1])\n",
        "  row1=row0+input_arr_resized.shape[0]\n",
        "  col1=col0+input_arr_resized.shape[1]\n",
        "  mask=(input_arr_resized[:,:,3]==0)\n",
        "\n",
        "  bg_slice=x[row0:row1,col0:col1,:]\n",
        "  bg_slice=np.expand_dims(mask,-1)*bg_slice\n",
        "  bg_slice+=input_arr_resized[:,:,:3]\n",
        "  x[row0:row1,col0:col1,:]=bg_slice\n",
        " \n",
        "  predict_=model.predict(np.array([x/255]))\n",
        "  predict_=predict_[0]\n",
        "  predict_[0]=predict_[0]*shape[0]\n",
        "  predict_[1]=predict_[1]*shape[1]\n",
        "  predict_[2]=predict_[2]*shape[0]\n",
        "  predict_[3]=predict_[3]*shape[1]\n",
        "  fig, ax = plt.subplots(figsize=(10, 10))\n",
        "  ax.imshow(keras.preprocessing.image.array_to_img( x/255))\n",
        " \n",
        "  rect = patches.Rectangle((predict_[1],predict_[0]),  predict_[3],predict_[2], linewidth=4, edgecolor='r',fill=False)\n",
        "\n",
        "\n",
        "  ax.add_patch(rect)\n",
        "\n",
        "  plt.show()\n",
        "\n",
        "  \n"
      ],
      "metadata": {
        "id": "BhnpyPtfYTZk"
      },
      "execution_count": null,
      "outputs": []
    },
    {
      "cell_type": "code",
      "source": [
        "plot_white_boxes_locationV5()"
      ],
      "metadata": {
        "colab": {
          "base_uri": "https://localhost:8080/",
          "height": 593
        },
        "id": "OAbjqsgwZTJG",
        "outputId": "23085a49-50d2-4f97-b647-31b7c8aca1b1"
      },
      "execution_count": null,
      "outputs": [
        {
          "output_type": "display_data",
          "data": {
            "text/plain": [
              "<Figure size 720x720 with 1 Axes>"
            ],
            "image/png": "[encoded data removed]"
          },
          "metadata": {
            "needs_background": "light"
          }
        }
      ]
    },
    {
      "cell_type": "code",
      "source": [
        "def custom_loss(y_true,y_pred):\n",
        "  bce=keras.losses.binary_crossentropy(y_true[:,:-1],y_pred[:,:-1])\n",
        "  bce2=keras.losses.binary_crossentropy(y_true[:,-1],y_pred[:,-1])\n",
        "  return 2*y_true[:,-1]*bce+0.5*bce2"
      ],
      "metadata": {
        "id": "yRnslBBcZXOi"
      },
      "execution_count": null,
      "outputs": []
    },
    {
      "cell_type": "code",
      "source": [
        "flatten_layer2=keras.layers.Flatten()\n",
        "dense_layer2=keras.layers.Dense(5,activation=\"sigmoid\")"
      ],
      "metadata": {
        "id": "NeRWib01jIXy"
      },
      "execution_count": null,
      "outputs": []
    },
    {
      "cell_type": "code",
      "source": [
        "x=flatten_layer2(vgg.output)\n",
        "x=dense_layer2(x)\n",
        "model=keras.Model(vgg.input,x)"
      ],
      "metadata": {
        "id": "AUxKlQ5EjKLj"
      },
      "execution_count": null,
      "outputs": []
    },
    {
      "cell_type": "code",
      "source": [
        "model.compile(optimizer=\"adam\",loss=custom_loss,metrics=[\"accuracy\"])"
      ],
      "metadata": {
        "id": "f2el9JKEjUdt"
      },
      "execution_count": null,
      "outputs": []
    },
    {
      "cell_type": "code",
      "source": [
        "def generatorV6():\n",
        "  while True:\n",
        "    for _ in range(50):\n",
        "      x=np.zeros((batch_size,shape[0],shape[1],shape[2]))\n",
        "      y=np.zeros((batch_size,5))\n",
        "    \n",
        "      # scale=np.random.uniform(0.5,1.5)\n",
        "      # input_arr_resized=np.resize(input_arr,(int(input_arr.shape[0]*scale),int(input_arr.shape[1]*scale),3))\n",
        "      # to_flip=np.random.random()\n",
        "      # if to_flip <0.5:\n",
        "      #   input_arr_resized=np.fliplr(input_arr_resized)\n",
        "      for i in range(batch_size):\n",
        "        id=np.random.choice(len(backgrounds))\n",
        "        bg=backgrounds[id]\n",
        "        bg_h,bg_w,_=bg.shape\n",
        "        rnd_h=np.random.randint(bg_h-shape[0])\n",
        "        rnd_w=np.random.randint(bg_w-shape[1])\n",
        "        \n",
        "        x[i]=bg[rnd_h:rnd_h+shape[0],rnd_w:rnd_w+shape[1]].copy()\n",
        "        have_obj=np.random.random()\n",
        "        if have_obj <0.5:\n",
        "          y[i,0]=0\n",
        "          y[i,1]=0\n",
        "          y[i,2]=0\n",
        "          y[i,3]=0\n",
        "          y[i,4]=0\n",
        "        else:  \n",
        "          scale=np.random.uniform(0.5,1.5)\n",
        "          input_arr_resized=np.resize(input_arr,(int(input_arr.shape[0]*scale),int(input_arr.shape[1]*scale),4)\n",
        "          ).astype(np.uint8)\n",
        "          to_flip=np.random.random()\n",
        "          if to_flip <0.5:\n",
        "            input_arr_resized=np.fliplr(input_arr_resized)\n",
        "\n",
        "          row0=np.random.randint(0,shape[0]-input_arr_resized.shape[0])\n",
        "          col0=np.random.randint(0,shape[1]-input_arr_resized.shape[1])\n",
        "          row1=row0+input_arr_resized.shape[0]\n",
        "          col1=col0+input_arr_resized.shape[1]\n",
        "          mask=(input_arr_resized[:,:,3]==0)\n",
        "\n",
        "          bg_slice=x[i,row0:row1,col0:col1,:]\n",
        "          bg_slice=np.expand_dims(mask,-1)*bg_slice\n",
        "          bg_slice+=input_arr_resized[:,:,:3]\n",
        "          x[i,row0:row1,col0:col1,:]=bg_slice\n",
        "          y[i,0]=row0/100\n",
        "          y[i,1]=col0/100\n",
        "          y[i,2]=(row1-row0)/100\n",
        "          y[i,3]=(col1-col0)/100\n",
        "          y[i,4]=1\n",
        "      yield x/255,y"
      ],
      "metadata": {
        "id": "3qBMu7RGjZh3"
      },
      "execution_count": null,
      "outputs": []
    },
    {
      "cell_type": "code",
      "source": [
        "model.fit_generator(generatorV6(),epochs=20,steps_per_epoch=50)"
      ],
      "metadata": {
        "colab": {
          "base_uri": "https://localhost:8080/"
        },
        "id": "GUZ2C0MvlALy",
        "outputId": "aa8b4c8f-74d7-450e-dc48-fddf01aa4ac6"
      },
      "execution_count": null,
      "outputs": [
        {
          "output_type": "stream",
          "name": "stdout",
          "text": [
            "Epoch 1/20\n"
          ]
        },
        {
          "output_type": "stream",
          "name": "stderr",
          "text": [
            "/usr/local/lib/python3.7/dist-packages/ipykernel_launcher.py:1: UserWarning: `Model.fit_generator` is deprecated and will be removed in a future version. Please use `Model.fit`, which supports generators.\n",
            "  \"\"\"Entry point for launching an IPython kernel.\n"
          ]
        },
        {
          "output_type": "stream",
          "name": "stdout",
          "text": [
            "50/50 [==============================] - 20s 102ms/step - loss: 0.8269 - accuracy: 0.3831\n",
            "Epoch 2/20\n",
            "50/50 [==============================] - 5s 103ms/step - loss: 0.5356 - accuracy: 0.9925\n",
            "Epoch 3/20\n",
            "50/50 [==============================] - 5s 102ms/step - loss: 0.5066 - accuracy: 0.8512\n",
            "Epoch 4/20\n",
            "50/50 [==============================] - 5s 103ms/step - loss: 0.5147 - accuracy: 0.4950\n",
            "Epoch 5/20\n",
            "50/50 [==============================] - 5s 103ms/step - loss: 0.5053 - accuracy: 0.4856\n",
            "Epoch 6/20\n",
            "50/50 [==============================] - 5s 104ms/step - loss: 0.5353 - accuracy: 0.5169\n",
            "Epoch 7/20\n",
            "50/50 [==============================] - 5s 105ms/step - loss: 0.5187 - accuracy: 0.5000\n",
            "Epoch 8/20\n",
            "50/50 [==============================] - 5s 105ms/step - loss: 0.5183 - accuracy: 0.5019\n",
            "Epoch 9/20\n",
            "50/50 [==============================] - 5s 105ms/step - loss: 0.5373 - accuracy: 0.5169\n",
            "Epoch 10/20\n",
            "50/50 [==============================] - 5s 106ms/step - loss: 0.5048 - accuracy: 0.4919\n",
            "Epoch 11/20\n",
            "50/50 [==============================] - 5s 108ms/step - loss: 0.5240 - accuracy: 0.5125\n",
            "Epoch 12/20\n",
            "50/50 [==============================] - 5s 108ms/step - loss: 0.5273 - accuracy: 0.5056\n",
            "Epoch 13/20\n",
            "50/50 [==============================] - 5s 108ms/step - loss: 0.5103 - accuracy: 0.4925\n",
            "Epoch 14/20\n",
            "50/50 [==============================] - 5s 108ms/step - loss: 0.5115 - accuracy: 0.4919\n",
            "Epoch 15/20\n",
            "50/50 [==============================] - 5s 107ms/step - loss: 0.5457 - accuracy: 0.5194\n",
            "Epoch 16/20\n",
            "50/50 [==============================] - 5s 106ms/step - loss: 0.5037 - accuracy: 0.4881\n",
            "Epoch 17/20\n",
            "50/50 [==============================] - 5s 106ms/step - loss: 0.5440 - accuracy: 0.5250\n",
            "Epoch 18/20\n",
            "50/50 [==============================] - 5s 106ms/step - loss: 0.5068 - accuracy: 0.4944\n",
            "Epoch 19/20\n",
            "50/50 [==============================] - 5s 105ms/step - loss: 0.5223 - accuracy: 0.4975\n",
            "Epoch 20/20\n",
            "50/50 [==============================] - 5s 107ms/step - loss: 0.5095 - accuracy: 0.4938\n"
          ]
        },
        {
          "output_type": "execute_result",
          "data": {
            "text/plain": [
              "<keras.callbacks.History at 0x7fc9affadb90>"
            ]
          },
          "metadata": {},
          "execution_count": 17
        }
      ]
    },
    {
      "cell_type": "code",
      "source": [
        "def plot_white_boxes_locationV6():\n",
        "  x=np.zeros(shape)\n",
        "  id=np.random.choice(len(backgrounds))\n",
        "  bg=backgrounds[id].astype(np.uint8)\n",
        "  bg_h,bg_w,_=bg.shape\n",
        "  rnd_h=np.random.randint(bg_h-shape[0])\n",
        "  rnd_w=np.random.randint(bg_w-shape[1])\n",
        "        \n",
        "  x=bg[rnd_h:rnd_h+shape[0],rnd_w:rnd_w+shape[1]].copy()\n",
        "  have_obj=np.random.random()\n",
        "  \n",
        "  if have_obj>=0.5:  \n",
        "    scale=np.random.uniform(0.5,1.5)\n",
        "    input_arr_resized=np.resize(input_arr,(int(input_arr.shape[0]*scale),int(input_arr.shape[1]*scale),4)).astype(np.uint8)\n",
        "    to_flip=np.random.random()\n",
        "    if to_flip <0.5:\n",
        "      input_arr_resized=np.fliplr(input_arr_resized)\n",
        "    row0=np.random.randint(0,shape[0]-input_arr_resized.shape[0])\n",
        "    col0=np.random.randint(0,shape[1]-input_arr_resized.shape[1])\n",
        "    row1=row0+input_arr_resized.shape[0]\n",
        "    col1=col0+input_arr_resized.shape[1]\n",
        "    mask=(input_arr_resized[:,:,3]==0)\n",
        "\n",
        "    bg_slice=x[row0:row1,col0:col1,:]\n",
        "    bg_slice=np.expand_dims(mask,-1)*bg_slice\n",
        "    bg_slice+=input_arr_resized[:,:,:3]\n",
        "    x[row0:row1,col0:col1,:]=bg_slice\n",
        " \n",
        "  predict_=model.predict(np.array([x/255]))\n",
        "  predict_=predict_[0]\n",
        "  predict_[0]=predict_[0]*shape[0]\n",
        "  predict_[1]=predict_[1]*shape[1]\n",
        "  predict_[2]=predict_[2]*shape[0]\n",
        "  predict_[3]=predict_[3]*shape[1]\n",
        "  fig, ax = plt.subplots(figsize=(10, 10))\n",
        "  ax.imshow(keras.preprocessing.image.array_to_img( x/255))\n",
        "  if predict_[4]>0.5:\n",
        "    rect = patches.Rectangle((predict_[1],predict_[0]),  predict_[3],predict_[2], linewidth=4, edgecolor='r',fill=False)\n",
        "\n",
        "\n",
        "    ax.add_patch(rect)\n",
        "\n",
        "  plt.show()\n",
        "\n",
        "  \n"
      ],
      "metadata": {
        "id": "gBcKQVejj7nf"
      },
      "execution_count": null,
      "outputs": []
    },
    {
      "cell_type": "code",
      "source": [
        "plot_white_boxes_locationV6()"
      ],
      "metadata": {
        "colab": {
          "base_uri": "https://localhost:8080/",
          "height": 593
        },
        "id": "1IYjLz_nkY7m",
        "outputId": "47b80857-939b-4bd2-fc3c-4dab48dcab77"
      },
      "execution_count": null,
      "outputs": [
        {
          "output_type": "display_data",
          "data": {
            "text/plain": [
              "<Figure size 720x720 with 1 Axes>"
            ],
            "image/png": "[encoded data removed]"
          },
          "metadata": {
            "needs_background": "light"
          }
        }
      ]
    },
    {
      "cell_type": "code",
      "source": [
        ""
      ],
      "metadata": {
        "id": "KqX-UXHLlIlR"
      },
      "execution_count": null,
      "outputs": []
    }
  ]
}